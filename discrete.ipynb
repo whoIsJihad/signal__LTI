{
 "cells": [
  {
   "cell_type": "code",
   "execution_count": 2,
   "metadata": {},
   "outputs": [],
   "source": [
    "import numpy as np\n",
    "import matplotlib.pyplot as plt\n",
    "import itertools\n",
    "\n",
    "class DiscreteSignal:\n",
    "    color_cycle = itertools.cycle(['b', 'g', 'r', 'c', 'm', 'y', 'k'])\n",
    "    def __init__(self, INF):\n",
    "        self.INF = INF\n",
    "        self.values = np.zeros(2 * INF + 1)\n",
    "    def set_value_at_time(self, time, value):\n",
    "       self.values[time + self.INF] = value    \n",
    "    \n",
    "    def get_value_at_time(self, time):\n",
    "       return self.values[time + self.INF] \n",
    "    def shift_signal(self, shift):\n",
    "        if abs(shift) > self.INF*2+1:\n",
    "            self.values = np.zeros(2*self.INF+1)\n",
    "            return\n",
    "        if shift > 0:\n",
    "            self.values = np.concatenate((np.zeros(shift), self.values[0:2*self.INF+1-shift]))\n",
    "        elif shift < 0:\n",
    "            self.values = np.concatenate((self.values[-shift:], np.zeros(-shift)))\n",
    "    \n",
    "    def add(self,other):\n",
    "        signal2=DiscreteSignal(self.INF)\n",
    "        signal2.values=self.values+other.values\n",
    "        return signal2\n",
    "    def multiply(self,other):\n",
    "        signal2=DiscreteSignal(self.INF)\n",
    "        signal2.values=self.values*other.values\n",
    "        return signal2  \n",
    "    def multiply_const_factor(self, scaler):\n",
    "        signal2=DiscreteSignal(self.INF)\n",
    "        signal2.values=self.values*scaler\n",
    "        return signal2\n",
    "    def plot(self, label='Signal'):\n",
    "        time_points = np.arange(-self.INF, self.INF + 1, 1)\n",
    "        color = next(DiscreteSignal.color_cycle)\n",
    "        plt.stem(time_points, self.values, basefmt=\" \", label=label, linefmt=color, markerfmt=color+'o')\n",
    "        plt.xlabel('n (Time Index)')\n",
    "        plt.ylabel('x[n]')\n",
    "        plt.legend()\n",
    "        plt.grid(True)\n",
    "        # plt.show()\n",
    "        # plt.figure()\n",
    "        \n",
    "    \n",
    "        \n"
   ]
  },
  {
   "cell_type": "code",
   "execution_count": 2,
   "metadata": {},
   "outputs": [
    {
     "ename": "NameError",
     "evalue": "name 'DiscreteSignal' is not defined",
     "output_type": "error",
     "traceback": [
      "\u001b[1;31m---------------------------------------------------------------------------\u001b[0m",
      "\u001b[1;31mNameError\u001b[0m                                 Traceback (most recent call last)",
      "Cell \u001b[1;32mIn[2], line 96\u001b[0m\n\u001b[0;32m     92\u001b[0m         \u001b[38;5;28mself\u001b[39m\u001b[38;5;241m.\u001b[39mimpulse_response\u001b[38;5;241m.\u001b[39mplot(\u001b[38;5;124m\"\u001b[39m\u001b[38;5;124mImpulse Response\u001b[39m\u001b[38;5;124m\"\u001b[39m)\n\u001b[0;32m     94\u001b[0m INF \u001b[38;5;241m=\u001b[39m \u001b[38;5;241m5\u001b[39m\n\u001b[1;32m---> 96\u001b[0m impulse_response \u001b[38;5;241m=\u001b[39m \u001b[43mDiscreteSignal\u001b[49m(INF)\n\u001b[0;32m     97\u001b[0m impulse_response\u001b[38;5;241m.\u001b[39mset_value_at_time(\u001b[38;5;241m0\u001b[39m, \u001b[38;5;241m1\u001b[39m)\n\u001b[0;32m     98\u001b[0m impulse_response\u001b[38;5;241m.\u001b[39mset_value_at_time(\u001b[38;5;241m1\u001b[39m, \u001b[38;5;241m1\u001b[39m)\n",
      "\u001b[1;31mNameError\u001b[0m: name 'DiscreteSignal' is not defined"
     ]
    }
   ],
   "source": []
  },
  {
   "cell_type": "code",
   "execution_count": null,
   "metadata": {},
   "outputs": [],
   "source": []
  },
  {
   "cell_type": "code",
   "execution_count": null,
   "metadata": {},
   "outputs": [],
   "source": [
    "# Main function to generate subplots and save figures\n",
    "\n",
    "def main():\n",
    "    # Set up the impulse response and input signal\n",
    "    INF = 5\n",
    "    impulse_response = DiscreteSignal(INF)\n",
    "    impulse_response.set_value_at_time(0, 1)\n",
    "    impulse_response.set_value_at_time(1, 1)\n",
    "    impulse_response.set_value_at_time(2, 1)\n",
    "    \n",
    "    input_signal = DiscreteSignal(INF)\n",
    "    input_signal.set_value_at_time(0, 0.5)\n",
    "    input_signal.set_value_at_time(1, 2)\n",
    "\n",
    "    # Initialize the LTI system\n",
    "    lti_system = LTI_Discrete(impulse_response)\n",
    "    \n",
    "    # Plot the input signal\n",
    "    plt.figure()\n",
    "    input_signal.plot(\"\")\n",
    "    plt.title(\"Input Discrete Signal, INF=5\")\n",
    "    plt.savefig(\"discrete_plots/input_signal.png\")\n",
    "\n",
    "\n",
    "# Run the main function\n",
    "main()\n"
   ]
  }
 ],
 "metadata": {
  "kernelspec": {
   "display_name": "Python 3",
   "language": "python",
   "name": "python3"
  },
  "language_info": {
   "codemirror_mode": {
    "name": "ipython",
    "version": 3
   },
   "file_extension": ".py",
   "mimetype": "text/x-python",
   "name": "python",
   "nbconvert_exporter": "python",
   "pygments_lexer": "ipython3",
   "version": "3.11.9"
  }
 },
 "nbformat": 4,
 "nbformat_minor": 2
}
